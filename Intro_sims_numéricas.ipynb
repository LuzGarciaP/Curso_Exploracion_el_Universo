{
  "nbformat": 4,
  "nbformat_minor": 0,
  "metadata": {
    "colab": {
      "provenance": []
    },
    "kernelspec": {
      "name": "python3",
      "display_name": "Python 3"
    },
    "language_info": {
      "name": "python"
    }
  },
  "cells": [
    {
      "cell_type": "markdown",
      "source": [
        "## **Órbita de Asteroide**"
      ],
      "metadata": {
        "id": "nZFp7Hbh9f7B"
      }
    },
    {
      "cell_type": "code",
      "execution_count": null,
      "metadata": {
        "id": "vrjDBPVY4LXp"
      },
      "outputs": [],
      "source": [
        "!pip install rebound"
      ]
    },
    {
      "cell_type": "code",
      "source": [
        "import rebound\n",
        "import numpy as np\n",
        "import matplotlib.pyplot as plt\n",
        "from matplotlib.animation import FuncAnimation\n",
        "from matplotlib.animation import PillowWriter"
      ],
      "metadata": {
        "id": "Y0DLhHOW7Yel"
      },
      "execution_count": null,
      "outputs": []
    },
    {
      "cell_type": "code",
      "source": [
        "sim = rebound.Simulation()\n",
        "\n",
        "# Unidades de la simulación\n",
        "sim.units = ('yr', 'AU', 'Msun')\n",
        "\n",
        "# Agregar partículas (Sol, Tierra y un pequeño asteroide)\n",
        "sim.add(m=1.0)  #Sol, masa = 1.0 (en masas solares)\n",
        "sim.add(m=3e-6, a=1.0, e=0.0167)  # Tierra, a = 1.0 AU, e = 0.0167 (parámetros orbitales)\n",
        "sim.add(m=1e-10, a=1.5, e=0.1)  # Asteroide pequeño, con cierta excentricidad\n",
        "\n",
        "# Integrador y otras propiedades de la simulación\n",
        "sim.integrator = \"whfast\"\n",
        "sim.dt = 0.01  # Paso (en years)\n",
        "\n",
        "times = np.linspace(0, 10, 1000)  # Simular por 10 years\n",
        "positions = np.zeros((len(times), 3, 3))  # Guardar posiciones de los astros\n",
        "\n",
        "for i, t in enumerate(times):\n",
        "    sim.integrate(t)\n",
        "    positions[i] = np.array([[p.x, p.y, p.z] for p in sim.particles])  # Posiciones x, y, z\n",
        "\n",
        "import matplotlib.pyplot as plt\n",
        "\n",
        "plt.figure(figsize=(6, 6))\n",
        "plt.plot(positions[:, 1, 0], positions[:, 1, 1], label=\"Tierra\")\n",
        "plt.plot(positions[:, 2, 0], positions[:, 2, 1], label=\"Asteroide\")\n",
        "plt.scatter(0, 0, color='orange', label=\"Sol\", s=100)\n",
        "plt.xlabel(\"x [AU]\")\n",
        "plt.ylabel(\"y [AU]\")\n",
        "plt.legend()\n",
        "plt.title(\"Órbitas\")\n",
        "plt.show()"
      ],
      "metadata": {
        "id": "2MSoS7Sd7bbM"
      },
      "execution_count": null,
      "outputs": []
    },
    {
      "cell_type": "code",
      "source": [
        "# Unidades de la simulación\n",
        "sim.units = ('yr', 'AU', 'Msun')\n",
        "\n",
        "# Agregar partículas (Sol, Tierra y un pequeño asteroide)\n",
        "sim.add(m=1.0)  #Sol, masa = 1.0 (en masas solares)\n",
        "sim.add(m=3e-6, a=1.0, e=0.0167)  # Tierra, a = 1.0 AU, e = 0.0167 (parámetros orbitales)\n",
        "sim.add(m=1e-10, a=1.5, e=0.1)  # Asteroide pequeño, con cierta excentricidad\n",
        "\n",
        "# Integrador y otras propiedades de la simulación\n",
        "sim.integrator = \"whfast\"\n",
        "sim.dt = 0.01  # Paso (en years)\n",
        "\n",
        "times = np.linspace(0, 10, 1000)  # Simular por 10 years\n",
        "positions = np.zeros((len(times), 3, 3))  # Guardar posiciones de los astros\n",
        "\n",
        "for i, t in enumerate(times):\n",
        "    sim.integrate(t)\n",
        "    positions[i] = np.array([[p.x, p.y, p.z] for p in sim.particles])  # Posiciones x, y, z\n",
        "\n",
        "\n",
        "fig, ax = plt.subplots(figsize=(6, 6))\n",
        "ax.set_xlim(-2, 2)\n",
        "ax.set_ylim(-2, 2)\n",
        "\n",
        "sun, = ax.plot(0, 0, 'o', color='orange', markersize=10, label=\"Sun\")\n",
        "\n",
        "earth_orbit, = ax.plot([], [], '-', color='blue', lw=1, label=\"Earth Orbit\")\n",
        "asteroid_orbit, = ax.plot([], [], '-', color='green', lw=1, label=\"Asteroid Orbit\")\n",
        "earth, = ax.plot([], [], 'o', color='blue', markersize=5, label=\"Earth\")\n",
        "asteroid, = ax.plot([], [], 'o', color='green', markersize=5, label=\"Asteroid\")\n",
        "\n",
        "def init():\n",
        "    earth_orbit.set_data([], [])\n",
        "    asteroid_orbit.set_data([], [])\n",
        "    earth.set_data([], [])\n",
        "    asteroid.set_data([], [])\n",
        "    return earth_orbit, asteroid_orbit, earth, asteroid\n",
        "\n",
        "def update(frame):\n",
        "    earth_orbit.set_data(positions[:frame, 1, 0], positions[:frame, 1, 1])\n",
        "    asteroid_orbit.set_data(positions[:frame, 2, 0], positions[:frame, 2, 1])\n",
        "    earth.set_data(positions[frame, 1, 0], positions[frame, 1, 1])\n",
        "    asteroid.set_data(positions[frame, 2, 0], positions[frame, 2, 1])\n",
        "    return earth_orbit, asteroid_orbit, earth, asteroid\n",
        "\n",
        "# Creemos la animación\n",
        "ani = FuncAnimation(fig, update, frames=len(times), init_func=init, blit=True, interval=20)\n",
        "\n",
        "# Guardarla como GIF\n",
        "ani.save(\"/content/orbit_animation.gif\", writer=PillowWriter(fps=30))\n",
        "\n",
        "# Mostrar animación\n",
        "from IPython.display import Image\n",
        "Image(filename=\"/content/orbit_animation.gif\")"
      ],
      "metadata": {
        "id": "9FE4EgWK7gVU"
      },
      "execution_count": null,
      "outputs": []
    },
    {
      "cell_type": "markdown",
      "source": [
        "## **Galaxia**"
      ],
      "metadata": {
        "id": "MLZTdCvQ9woH"
      }
    },
    {
      "cell_type": "code",
      "source": [
        "!pip install yt"
      ],
      "metadata": {
        "id": "IpIEuUi57lmh"
      },
      "execution_count": null,
      "outputs": []
    },
    {
      "cell_type": "code",
      "source": [
        "!wget http://yt-project.org/data/IsolatedGalaxy.tar.gz"
      ],
      "metadata": {
        "id": "wsDhOc2u8rFI"
      },
      "execution_count": null,
      "outputs": []
    },
    {
      "cell_type": "code",
      "source": [
        "!tar -xzf IsolatedGalaxy.tar.gz.1"
      ],
      "metadata": {
        "id": "t7RBD2Y88t6f"
      },
      "execution_count": null,
      "outputs": []
    },
    {
      "cell_type": "code",
      "source": [
        "import yt\n",
        "\n",
        "ds = yt.load(\"IsolatedGalaxy/galaxy0030/galaxy0030\")\n",
        "\n",
        "p_dm = yt.ParticleProjectionPlot(ds, \"z\", (\"all\", \"particle_mass\"))\n",
        "p_dm.set_cmap((\"all\", \"particle_mass\"), \"inferno\")\n",
        "p_dm.annotate_title(\"Dark Matter Mass Projection\")\n",
        "p_dm.show()"
      ],
      "metadata": {
        "id": "dzDXgM0Z8wf6"
      },
      "execution_count": null,
      "outputs": []
    },
    {
      "cell_type": "code",
      "source": [
        "p_dm.set_unit((\"all\", \"particle_mass\"), \"Msun\")  # Set units to solar masses\n",
        "p_dm.set_log((\"all\", \"particle_mass\"), True)  # Use a logarithmic scale for mass projection\n",
        "p_dm.set_zlim((\"all\", \"particle_mass\"), 1e5, 1e9)  # Set limits for the color scale\n",
        "p_dm.show()"
      ],
      "metadata": {
        "id": "Qy9Qjw1F8yxh"
      },
      "execution_count": null,
      "outputs": []
    },
    {
      "cell_type": "code",
      "source": [
        "print(ds.field_list)"
      ],
      "metadata": {
        "id": "oDwabaDr81cP"
      },
      "execution_count": null,
      "outputs": []
    },
    {
      "cell_type": "code",
      "source": [
        "s = yt.SlicePlot(ds, \"z\", (\"gas\", \"density\"))\n",
        "s.set_cmap((\"gas\", \"density\"), \"magma\")\n",
        "s.show()"
      ],
      "metadata": {
        "id": "0aB13QZk85FE"
      },
      "execution_count": null,
      "outputs": []
    },
    {
      "cell_type": "code",
      "source": [
        "p_temp = yt.ProjectionPlot(ds, \"z\", (\"gas\", \"temperature\"))\n",
        "p_temp.set_cmap(\"temperature\", \"coolwarm\")\n",
        "p_temp.show()"
      ],
      "metadata": {
        "id": "WHXBNYxa89_A"
      },
      "execution_count": null,
      "outputs": []
    },
    {
      "cell_type": "code",
      "source": [
        "p_velocity = yt.ProjectionPlot(ds, \"z\", (\"gas\", \"velocity_magnitude\"))\n",
        "p_velocity.show()"
      ],
      "metadata": {
        "id": "ll9Zk3gV9Aua"
      },
      "execution_count": null,
      "outputs": []
    },
    {
      "cell_type": "markdown",
      "source": [
        "## **Estructura a gran escala**"
      ],
      "metadata": {
        "id": "IN6aF-y891pl"
      }
    },
    {
      "cell_type": "code",
      "source": [
        "!pip install scipy\n",
        "!pip install pillow"
      ],
      "metadata": {
        "id": "6Aq3aYhY9Nzw"
      },
      "execution_count": null,
      "outputs": []
    },
    {
      "cell_type": "code",
      "source": [
        "n_particles = 10000  # Número de partículas\n",
        "box_size = 100.0    # Tamaño de la caja\n",
        "n_steps = 300       # Número de pasos de la simulación\n",
        "\n",
        "x = np.random.uniform(0, box_size, n_particles)\n",
        "y = np.random.uniform(0, box_size, n_particles)\n",
        "z = np.random.uniform(0, box_size, n_particles)\n",
        "\n",
        "# Pequeñas perturbaciones de velocidad (aleatorías) para comenzar la formación de estructura\n",
        "vx = np.random.normal(0, 0.05, n_particles)\n",
        "vy = np.random.normal(0, 0.05, n_particles)\n",
        "vz = np.random.normal(0, 0.05, n_particles)\n",
        "\n",
        "# Loop de simulación\n",
        "positions = []\n",
        "for step in range(n_steps):\n",
        "    x += vx\n",
        "    y += vy\n",
        "    z += vz\n",
        "\n",
        "    # Condiciones de frontera\n",
        "    x = np.mod(x, box_size)\n",
        "    y = np.mod(y, box_size)\n",
        "    z = np.mod(z, box_size)\n",
        "\n",
        "    positions.append(np.column_stack([x, y, z]))\n",
        "\n",
        "positions = np.array(positions)\n",
        "\n",
        "fig, ax = plt.subplots(figsize=(8, 8))\n",
        "scat = ax.scatter(positions[0][:, 0], positions[0][:, 1], s=5, alpha=0.7)\n",
        "ax.set_xlim([0, box_size])\n",
        "ax.set_ylim([0, box_size])\n",
        "\n",
        "def update(frame):\n",
        "    scat.set_offsets(positions[frame][:, :2])  # Actualizar posiciones de las partículas\n",
        "    return scat,\n",
        "\n",
        "# Crear la animación\n",
        "ani = FuncAnimation(fig, update, frames=n_steps, interval=100, blit=True)\n",
        "\n",
        "# Guardemola como GIF\n",
        "ani.save(\"large_scale_structure.gif\", writer=PillowWriter(fps=10))\n",
        "\n",
        "from IPython.display import Image\n",
        "Image(filename=\"large_scale_structure.gif\")"
      ],
      "metadata": {
        "id": "PFO8J1Qt9Txt"
      },
      "execution_count": null,
      "outputs": []
    }
  ]
}